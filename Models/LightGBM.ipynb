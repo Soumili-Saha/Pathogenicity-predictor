{
  "cells": [
    {
      "cell_type": "code",
      "source": [
        "!pip install lightgbm"
      ],
      "metadata": {
        "colab": {
          "base_uri": "https://localhost:8080/"
        },
        "id": "Wo1C5TYp3yf7",
        "outputId": "8c883e03-6490-4468-9fc2-4df4a9396ffb"
      },
      "execution_count": 2,
      "outputs": [
        {
          "output_type": "stream",
          "name": "stdout",
          "text": [
            "Collecting lightgbm\n",
            "  Downloading lightgbm-4.6.0-py3-none-manylinux_2_28_x86_64.whl.metadata (17 kB)\n",
            "Requirement already satisfied: numpy>=1.17.0 in /usr/local/lib/python3.11/dist-packages (from lightgbm) (2.0.2)\n",
            "Requirement already satisfied: scipy in /usr/local/lib/python3.11/dist-packages (from lightgbm) (1.15.2)\n",
            "Downloading lightgbm-4.6.0-py3-none-manylinux_2_28_x86_64.whl (3.6 MB)\n",
            "\u001b[2K   \u001b[90m━━━━━━━━━━━━━━━━━━━━━━━━━━━━━━━━━━━━━━━━\u001b[0m \u001b[32m3.6/3.6 MB\u001b[0m \u001b[31m39.9 MB/s\u001b[0m eta \u001b[36m0:00:00\u001b[0m\n",
            "\u001b[?25hInstalling collected packages: lightgbm\n",
            "Successfully installed lightgbm-4.6.0\n"
          ]
        }
      ]
    },
    {
      "cell_type": "code",
      "source": [
        "from google.colab import drive\n",
        "drive.mount('/content/drive')"
      ],
      "metadata": {
        "colab": {
          "base_uri": "https://localhost:8080/"
        },
        "id": "3BR0YghLOFql",
        "outputId": "f26f6189-6ab2-414e-db53-018ca07f41a0"
      },
      "execution_count": 3,
      "outputs": [
        {
          "output_type": "stream",
          "name": "stdout",
          "text": [
            "Drive already mounted at /content/drive; to attempt to forcibly remount, call drive.mount(\"/content/drive\", force_remount=True).\n"
          ]
        }
      ]
    },
    {
      "cell_type": "code",
      "source": [
        "import pandas as pd\n",
        "import numpy as np\n",
        "import time\n",
        "from lightgbm import LGBMClassifier\n",
        "from sklearn.model_selection import train_test_split\n",
        "from sklearn.metrics import (\n",
        "    classification_report, accuracy_score, precision_score,\n",
        "    recall_score, f1_score, confusion_matrix\n",
        ")\n",
        "from sklearn.preprocessing import LabelEncoder\n",
        "from google.colab import drive\n",
        "\n",
        "# Mount Google Drive\n",
        "drive.mount('/content/drive')\n",
        "\n",
        "# Load dataset\n",
        "file_path = '/content/drive/MyDrive/Copy of final_dataset'\n",
        "df = pd.read_csv(file_path, dtype={'Chromosome': str}, low_memory=False)\n",
        "\n",
        "# Target and Features\n",
        "target = 'Grouped_ClinicalSignificance'\n",
        "X = df.drop(columns=[target])\n",
        "y = df[target]\n",
        "\n",
        "# Encode target\n",
        "le = LabelEncoder()\n",
        "y = le.fit_transform(y)\n",
        "\n",
        "# Encode categorical features for LightGBM\n",
        "categorical_cols = X.select_dtypes(include=['object', 'category']).columns.tolist()\n",
        "X = X.copy()\n",
        "for col in categorical_cols:\n",
        "    X[col] = LabelEncoder().fit_transform(X[col].astype(str))\n",
        "\n",
        "# Train-test split\n",
        "X_train, X_test, y_train, y_test = train_test_split(\n",
        "    X, y, test_size=0.2, random_state=42, stratify=y\n",
        ")\n",
        "import warnings\n",
        "warnings.filterwarnings(\"ignore\")\n",
        "# Model setup\n",
        "model = LGBMClassifier(\n",
        "    n_estimators=200,\n",
        "    learning_rate=0.1,\n",
        "    max_depth=7,\n",
        "    class_weight='balanced',\n",
        "    random_state=42,\n",
        "    verbose=-1\n",
        ")\n",
        "\n",
        "# Train and time the process\n",
        "start_time = time.time()\n",
        "model.fit(X_train, y_train)\n",
        "end_time = time.time()\n",
        "\n",
        "# Predictions\n",
        "start_infer = time.time()\n",
        "y_pred = model.predict(X_test)\n",
        "end_infer = time.time()\n",
        "inference_time = end_infer - start_infer\n",
        "\n",
        "# Evaluation metrics\n",
        "accuracy = accuracy_score(y_test, y_pred)\n",
        "precision = precision_score(y_test, y_pred, average='weighted', zero_division=0)\n",
        "recall = recall_score(y_test, y_pred, average='weighted', zero_division=0)\n",
        "f1 = f1_score(y_test, y_pred, average='weighted', zero_division=0)\n",
        "conf_matrix = confusion_matrix(y_test, y_pred)\n",
        "false_negatives = sum(conf_matrix[i].sum() - conf_matrix[i][i] for i in range(len(conf_matrix)))\n",
        "\n",
        "# Print results\n",
        "print(\"✅ Accuracy:\", f\"{accuracy:.4f}\")\n",
        "print(\"🎯 Precision:\", f\"{precision:.4f}\")\n",
        "print(\"🔁 Recall:\", f\"{recall:.4f}\")\n",
        "print(\"📊 F1 Score:\", f\"{f1:.4f}\")\n",
        "print(f\"❌ Total False Negatives: {false_negatives}\")\n",
        "print(f\"⏱️ Computation Time: {end_time - start_time:.3f} seconds\\n\")\n",
        "print(f\"⚡ Inference Time: {inference_time:.4f} seconds\")\n",
        "print(\"📋 Classification Report:\\n\", classification_report(y_test, y_pred, target_names=le.classes_))\n"
      ],
      "metadata": {
        "colab": {
          "base_uri": "https://localhost:8080/"
        },
        "id": "ua3D088H35F1",
        "outputId": "4a9b4ae0-4553-498c-9af6-6d0b8348b168"
      },
      "execution_count": 4,
      "outputs": [
        {
          "output_type": "stream",
          "name": "stdout",
          "text": [
            "Drive already mounted at /content/drive; to attempt to forcibly remount, call drive.mount(\"/content/drive\", force_remount=True).\n",
            "✅ Accuracy: 0.7988\n",
            "🎯 Precision: 0.8252\n",
            "🔁 Recall: 0.7988\n",
            "📊 F1 Score: 0.8087\n",
            "❌ Total False Negatives: 243577\n",
            "⏱️ Computation Time: 134.240 seconds\n",
            "\n",
            "⚡ Inference Time: 38.3096 seconds\n",
            "📋 Classification Report:\n",
            "                                              precision    recall  f1-score   support\n",
            "\n",
            "                                     Benign       0.46      0.66      0.54     97674\n",
            "Conflicting classification of pathogenicity       1.00      1.00      1.00     53770\n",
            "                              Likely benign       0.83      0.78      0.80    329237\n",
            "                          Likely pathogenic       0.35      0.46      0.39     47932\n",
            "                                 Pathogenic       0.61      0.76      0.68     58924\n",
            "                                Risk allele       0.16      1.00      0.28         9\n",
            "                     Uncertain significance       0.92      0.84      0.88    623249\n",
            "\n",
            "                                   accuracy                           0.80   1210795\n",
            "                                  macro avg       0.62      0.79      0.65   1210795\n",
            "                               weighted avg       0.83      0.80      0.81   1210795\n",
            "\n"
          ]
        }
      ]
    }
  ],
  "metadata": {
    "colab": {
      "provenance": [],
      "gpuType": "V28"
    },
    "kernelspec": {
      "display_name": "Python 3",
      "name": "python3"
    },
    "language_info": {
      "name": "python"
    },
    "accelerator": "TPU"
  },
  "nbformat": 4,
  "nbformat_minor": 0
}
